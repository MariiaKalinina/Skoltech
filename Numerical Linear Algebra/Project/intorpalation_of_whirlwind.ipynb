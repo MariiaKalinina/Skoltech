{
  "nbformat": 4,
  "nbformat_minor": 0,
  "metadata": {
    "colab": {
      "provenance": []
    },
    "kernelspec": {
      "name": "python3",
      "display_name": "Python 3"
    },
    "language_info": {
      "name": "python"
    }
  },
  "cells": [
    {
      "cell_type": "code",
      "execution_count": null,
      "metadata": {
        "id": "y4lXBLmoHFoi"
      },
      "outputs": [],
      "source": [
        "import numpy as np\n",
        "from scipy.interpolate import RegularGridInterpolator\n",
        "from scipy.interpolate import griddata\n",
        "def inter(size_old, size_new, data_64x64):\n",
        "  x_64 = np.linspace(0, 1, size_old)\n",
        "  y_64 = np.linspace(0, 1, size_old)\n",
        "  interpolator = RegularGridInterpolator((x_64, y_64), data_64x64, method='linear', bounds_error=False, fill_value=None)\n",
        "  x_256 = np.linspace(0, 1, size_new)\n",
        "  y_256 = np.linspace(0, 1, size_new)\n",
        "  x_new, y_new = np.meshgrid(x_256, y_256)\n",
        "  points = np.column_stack((x_new.ravel(), y_new.ravel()))\n",
        "  data_256x256 = interpolator(points).reshape(size_new, size_new)\n",
        "  return data_256x256"
      ]
    },
    {
      "cell_type": "code",
      "source": [
        "def grid_for_draw(points):\n",
        "  element_length = points / (points - 1)\n",
        "  x = np.linspace(0.0, DOMAIN_SIZE, points)\n",
        "  y = np.linspace(0.0, DOMAIN_SIZE, points)\n",
        "  X, Y = np.meshgrid(x, y)\n",
        "  return X, Y"
      ],
      "metadata": {
        "id": "rUhCeXrFHGmS"
      },
      "execution_count": null,
      "outputs": []
    },
    {
      "cell_type": "code",
      "source": [
        "p_big_i = inter(64, 128, p_min)\n",
        "u_big_i = inter(64, 128, u_min)\n",
        "v_big_i = inter(64, 128, v_min)"
      ],
      "metadata": {
        "id": "x5xpxmjyHM7x"
      },
      "execution_count": null,
      "outputs": []
    },
    {
      "cell_type": "code",
      "source": [
        "import matplotlib.pyplot as plt\n",
        "def draw(p_big_i, p_big, p_min):\n",
        "  X, Y = grid_for_draw(128)\n",
        "  plt.style.use(\"dark_background\")\n",
        "  fig = plt.figure()\n",
        "  ax = fig.add_subplot(1, 3, 1)\n",
        "  ax.contourf(X[::2, ::2], Y[::2, ::2], p_big_i[::2, ::2], cmap=\"coolwarm\")\n",
        "  ax.set_title(\"Interpolation\", fontsize=20)\n",
        "  #fig.colorbar()\n",
        "  ax2 = fig.add_subplot(1, 3, 2)\n",
        "  ax2.contourf(X[::2, ::2], Y[::2, ::2], p_big[::2, ::2], cmap=\"coolwarm\")\n",
        "  ax2.set_title(\"Precise one\", fontsize=20)\n",
        "  #ax2.colorbar()\n",
        "\n",
        "  X, Y = grid_for_draw(64)\n",
        "\n",
        "  ax3 = fig.add_subplot(1, 3, 3)\n",
        "  ax3.contourf(X[::2, ::2], Y[::2, ::2], p_min[::2, ::2], cmap=\"coolwarm\")\n",
        "  ax3.set_title(\"Crude\", fontsize=20)\n",
        "  #ax3.colorbar()\n",
        "  plt.show()\n",
        "\n",
        "def draw_velocities(v_big_i, v_big, v_min, u_big_i, u_big, u_min):\n",
        "  X, Y = grid_for_draw(128)\n",
        "  plt.style.use(\"dark_background\")\n",
        "  fig = plt.figure(figsize=(5, 5))\n",
        "  ax = fig.add_subplot(1, 2, 1)\n",
        "  ax.contourf(X[::2, ::2], Y[::2, ::2], u_big_i[::2, ::2], cmap=\"coolwarm\")\n",
        "  ax.quiver(X[::2, ::2], Y[::2, ::2], u_big_i[::2, ::2], v_big_i[::2, ::2], color=\"black\")\n",
        "  ax.set_title(\"Interpolation\", fontsize=20)\n",
        "  #fig.colorbar()\n",
        "  ax2 = fig.add_subplot(1, 2, 2)\n",
        "  ax2.contourf(X[::2, ::2], Y[::2, ::2], u_big[::2, ::2], cmap=\"coolwarm\")\n",
        "  ax2.quiver(X[::2, ::2], Y[::2, ::2], u_big[::2, ::2], v_big[::2, ::2], color=\"black\")\n",
        "  ax2.set_title(\"Precise one\", fontsize=20)\n",
        "  #ax2.colorbar()\n",
        "\n",
        "  X, Y = grid_for_draw(64)\n",
        "\n",
        "  plt.show()"
      ],
      "metadata": {
        "id": "39KDhrVoHWnq"
      },
      "execution_count": null,
      "outputs": []
    },
    {
      "cell_type": "code",
      "source": [
        "def inter_cycle(size_old, size_new, data_64x64,met):\n",
        "\n",
        "  x_64 = np.linspace(0, 1, size_old)\n",
        "  y_64 = np.linspace(0, 1, size_old)\n",
        "\n",
        "\n",
        "  interpolator = RegularGridInterpolator((x_64, y_64), data_64x64, method=met, bounds_error=False, fill_value=None)\n",
        "\n",
        "  x_256 = np.linspace(0, 1, size_new)\n",
        "  y_256 = np.linspace(0, 1, size_new)\n",
        "\n",
        "\n",
        "  x_new, y_new = np.meshgrid(x_256, y_256)\n",
        "\n",
        "  points = np.column_stack((x_new.ravel(), y_new.ravel()))\n",
        "\n",
        "  data_256x256 = interpolator(points).reshape(size_new, size_new)\n",
        "  return data_256x256"
      ],
      "metadata": {
        "id": "q1kQcxiUHebR"
      },
      "execution_count": null,
      "outputs": []
    },
    {
      "cell_type": "code",
      "source": [
        "method = ['nearest', 'linear', 'cubic','pchip']\n",
        "for m in range(4):\n",
        "  p_big_i = inter_cycle(64, 128, p_min, method[m])\n",
        "  u_big_i = inter_cycle(64, 128, u_min, method[m])\n",
        "  v_big_i = inter_cycle(64, 128, v_min, method[m])\n",
        "\n",
        "  draw_velocities(np.transpose(v_big_i), v_big, v_min, np.transpose(u_big_i), u_big, u_min)\n",
        "\n",
        "  draw(np.transpose(p_big_i), p_big, p_min)"
      ],
      "metadata": {
        "id": "RRMSndzWHfTV"
      },
      "execution_count": null,
      "outputs": []
    },
    {
      "cell_type": "code",
      "source": [
        "error_p_list_128 = [[] for _ in range(4)]\n",
        "error_v_list_128 = [[] for _ in range(4)]\n",
        "error_u_list_128 = [[] for _ in range(4)]\n",
        "method = ['nearest', 'linear', 'cubic', 'pchip']\n",
        "for i in range(8):\n",
        "  N_POINTS = 128\n",
        "  u_big, v_big, p_big = main(G[i], R[i], Xp[i], Yp[i])\n",
        "  N_POINTS = 64\n",
        "  u_min, v_min, p_min = main(G[i], R[i], Xp[i], Yp[i])\n",
        "  for m in range(4):\n",
        "    p_big_i = inter_cycle(64, 128, p_min, method[m])\n",
        "    u_big_i = inter_cycle(64, 128, u_min, method[m])\n",
        "    v_big_i = inter_cycle(64, 128, v_min, method[m])\n",
        "\n",
        "    relative_matrix_norm_p_128 = np.linalg.norm(np.transpose(p_big_i) - p_big, ord=2) / np.linalg.norm(p_big, ord=2)\n",
        "    relative_matrix_norm_v_128 = np.linalg.norm(np.transpose(v_big_i) - v_big, ord=2) / np.linalg.norm(v_big, ord=2)\n",
        "    relative_matrix_norm_u_128 = np.linalg.norm(np.transpose(u_big_i) - u_big, ord=2) / np.linalg.norm(u_big, ord=2)\n",
        "\n",
        "    error_p_list_128[m].append(relative_matrix_norm_p_128)\n",
        "    error_v_list_128[m].append(relative_matrix_norm_v_128)\n",
        "    error_u_list_128[m].append(relative_matrix_norm_u_128)"
      ],
      "metadata": {
        "id": "IySOCOb1Hlf1"
      },
      "execution_count": null,
      "outputs": []
    },
    {
      "cell_type": "code",
      "source": [
        "print(\"Errors for nearest method:\", np.mean(error_p_list_128[0]), np.mean(error_v_list_128[0]),  np.mean(error_u_list_128[0]))\n",
        "print(\"Errors for linear method:\", np.mean(error_p_list_128[1]), np.mean(error_v_list_128[1]), np.mean(error_u_list_128[1]))\n",
        "print(\"Errors for cubic method:\", np.mean(error_p_list_128[2]), np.mean(error_v_list_128[2]), np.mean(error_u_list_128[2]))\n",
        "print(\"Errors for pchip method:\", np.mean(error_p_list_128[3]), np.mean(error_v_list_128[3]), np.mean(error_u_list_128[3]))"
      ],
      "metadata": {
        "id": "4I_lREYDHoxf"
      },
      "execution_count": null,
      "outputs": []
    },
    {
      "cell_type": "code",
      "source": [
        "import matplotlib.pyplot as plt\n",
        "method = ['nearest', 'linear', 'cubic', 'pchip']\n",
        "def plot_histogram(errors, method_name):\n",
        "    fig, ax = plt.subplots()\n",
        "    ax.bar(method, errors, color=['red', 'green', 'blue', 'purple'])\n",
        "    ax.set_xlabel('Interpalation method')\n",
        "    ax.set_ylabel('Relative error')\n",
        "    title = ax.set_title(f' Errors for {method_name} matrices')\n",
        "    title.set_color('black')\n",
        "\n",
        "    fig.set_facecolor('white')\n",
        "    ax.set_facecolor('white')\n",
        "\n",
        "    ax.xaxis.label.set_color('black')\n",
        "    ax.yaxis.label.set_color('black')\n",
        "    ax.tick_params(axis='x', colors='black')\n",
        "    ax.tick_params(axis='y', colors='black')\n",
        "\n",
        "    plt.show()\n",
        "\n",
        "\n",
        "plot_histogram([np.mean(error_v_list_128[0]), np.mean(error_v_list_128[1]), np.mean(error_v_list_128[2]),np.mean(error_v_list_128[3])], 'V')\n",
        "plot_histogram([np.mean(error_p_list_128[0]), np.mean(error_p_list_128[1]), np.mean(error_p_list_128[2]),np.mean(error_p_list_128[3])], 'P')\n",
        "plot_histogram([np.mean(error_u_list_128[0]), np.mean(error_u_list_128[1]), np.mean(error_u_list_128[2]),np.mean(error_u_list_128[3])], 'U')"
      ],
      "metadata": {
        "id": "yWeaK3tuH3R9"
      },
      "execution_count": null,
      "outputs": []
    }
  ]
}