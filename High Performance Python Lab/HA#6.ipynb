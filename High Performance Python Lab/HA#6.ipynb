{
  "nbformat": 4,
  "nbformat_minor": 0,
  "metadata": {
    "colab": {
      "provenance": []
    },
    "kernelspec": {
      "name": "python3",
      "display_name": "Python 3"
    },
    "language_info": {
      "name": "python"
    }
  },
  "cells": [
    {
      "cell_type": "code",
      "execution_count": 1,
      "metadata": {
        "colab": {
          "base_uri": "https://localhost:8080/"
        },
        "id": "Lw3_lLvG6sZv",
        "outputId": "b0ef47c6-787b-4ce7-cf05-d81277566999"
      },
      "outputs": [
        {
          "output_type": "stream",
          "name": "stdout",
          "text": [
            "Requirement already satisfied: mpi4py in /usr/local/lib/python3.10/dist-packages (3.1.5)\n"
          ]
        }
      ],
      "source": [
        "!pip install mpi4py"
      ]
    },
    {
      "cell_type": "code",
      "source": [
        "import numpy as np\n",
        "import matplotlib.pyplot as plt\n",
        "from scipy.integrate import quad\n",
        "%pylab inline"
      ],
      "metadata": {
        "colab": {
          "base_uri": "https://localhost:8080/"
        },
        "id": "fBWxxblj6zRZ",
        "outputId": "75832abd-bfd8-465e-c493-f4235b2f5c04"
      },
      "execution_count": 2,
      "outputs": [
        {
          "output_type": "stream",
          "name": "stdout",
          "text": [
            "Populating the interactive namespace from numpy and matplotlib\n"
          ]
        }
      ]
    },
    {
      "cell_type": "markdown",
      "source": [
        "### The non-parallel version of the integral calculation function"
      ],
      "metadata": {
        "id": "x7BlNPvi1RXQ"
      }
    },
    {
      "cell_type": "code",
      "source": [
        "def func(x):\n",
        "  return x**2 - x + 5\n",
        "\n",
        "a, b, N = 0, 1, 1000"
      ],
      "metadata": {
        "id": "6D3x3uJpB649"
      },
      "execution_count": 3,
      "outputs": []
    },
    {
      "cell_type": "code",
      "source": [
        "# %%timeit\n",
        "def analytical_integration(a, b):\n",
        "  return quad(func, a, b)[0]"
      ],
      "metadata": {
        "id": "zTzm-1g11dF6"
      },
      "execution_count": 4,
      "outputs": []
    },
    {
      "cell_type": "code",
      "source": [
        "print(\"Analytical result:\", analytical_integration(0, 1))"
      ],
      "metadata": {
        "colab": {
          "base_uri": "https://localhost:8080/"
        },
        "id": "eWdANRGx5TBv",
        "outputId": "d0274f5b-d78b-4642-d393-974530663472"
      },
      "execution_count": 5,
      "outputs": [
        {
          "output_type": "stream",
          "name": "stdout",
          "text": [
            "Analytical result: 4.833333333333333\n"
          ]
        }
      ]
    },
    {
      "cell_type": "code",
      "source": [
        "x = linspace(0, 1, 100)\n",
        "plot(x, func(x))\n",
        "show()"
      ],
      "metadata": {
        "colab": {
          "base_uri": "https://localhost:8080/",
          "height": 429
        },
        "id": "EJI6iVDdCDi8",
        "outputId": "62fbe1e0-c9ff-442d-def0-d35a74999913"
      },
      "execution_count": 6,
      "outputs": [
        {
          "output_type": "display_data",
          "data": {
            "text/plain": [
              "<Figure size 640x480 with 1 Axes>"
            ],
            "image/png": "[encoded data removed]"
          },
          "metadata": {}
        }
      ]
    },
    {
      "cell_type": "code",
      "source": [
        "def rectangle_rule_integration(func, a, b, N):\n",
        "\n",
        "    h = (b - a) / N\n",
        "    integral = 0\n",
        "    for i in range(N):\n",
        "        x_left = a + i * h\n",
        "        x_right = a + (i + 1) * h\n",
        "        x_mid = (x_left + x_right) / 2\n",
        "        integral += func(x_mid) * h\n",
        "    return integral\n",
        "\n",
        "print(\"Numerical approximate result:\", \\\n",
        "      rectangle_rule_integration(func, a, b, N))"
      ],
      "metadata": {
        "colab": {
          "base_uri": "https://localhost:8080/"
        },
        "id": "QHNmVKF9OCnv",
        "outputId": "94940b17-f179-4ffe-f95e-61684adcb0ab"
      },
      "execution_count": 7,
      "outputs": [
        {
          "output_type": "stream",
          "name": "stdout",
          "text": [
            "Numerical approximate result: 4.833333250000002\n"
          ]
        }
      ]
    },
    {
      "cell_type": "code",
      "source": [
        "analytical_time = %timeit -o analytical_integration(a, b)\n",
        "analytical_time.best"
      ],
      "metadata": {
        "colab": {
          "base_uri": "https://localhost:8080/"
        },
        "id": "wZ18sYzH4tiG",
        "outputId": "2b178a0c-3a29-4f70-85a8-d13161dba042"
      },
      "execution_count": 8,
      "outputs": [
        {
          "output_type": "stream",
          "name": "stdout",
          "text": [
            "13.7 µs ± 5.47 µs per loop (mean ± std. dev. of 7 runs, 100000 loops each)\n"
          ]
        },
        {
          "output_type": "execute_result",
          "data": {
            "text/plain": [
              "7.566499799997928e-06"
            ]
          },
          "metadata": {},
          "execution_count": 8
        }
      ]
    },
    {
      "cell_type": "code",
      "source": [
        "numerical_time = %timeit -o rectangle_rule_integration(func, a, b, N)\n",
        "numerical_time.best"
      ],
      "metadata": {
        "colab": {
          "base_uri": "https://localhost:8080/"
        },
        "id": "RXYWPNoHOoAa",
        "outputId": "f3e50b79-a1df-4eba-c083-cbef32aa6b54"
      },
      "execution_count": 9,
      "outputs": [
        {
          "output_type": "stream",
          "name": "stdout",
          "text": [
            "The slowest run took 4.19 times longer than the fastest. This could mean that an intermediate result is being cached.\n",
            "1.01 ms ± 575 µs per loop (mean ± std. dev. of 7 runs, 1000 loops each)\n"
          ]
        },
        {
          "output_type": "execute_result",
          "data": {
            "text/plain": [
              "0.0005324569110000539"
            ]
          },
          "metadata": {},
          "execution_count": 9
        }
      ]
    },
    {
      "cell_type": "markdown",
      "source": [
        "###Parallel MPI version using mpi4py"
      ],
      "metadata": {
        "id": "SexOeGA24tyf"
      }
    },
    {
      "cell_type": "code",
      "source": [
        "%%writefile parallel_MPI.py\n",
        "from mpi4py import MPI\n",
        "import numpy as np\n",
        "from scipy.integrate import quad\n",
        "\n",
        "def func(x):\n",
        "    return x**2 - x + 5\n",
        "\n",
        "comm = MPI.COMM_WORLD\n",
        "size = comm.Get_size()\n",
        "rank = comm.Get_rank()\n",
        "N_points = 1000  # Number of discretization points\n",
        "a, b = 0, 1 #Limits\n",
        "\n",
        "start_time = MPI.Wtime()\n",
        "\n",
        "# Local integrals\n",
        "local_n = N_points // size\n",
        "local_a = a + rank * local_n * (b - a) / N_points\n",
        "local_b = local_a + local_n * (b - a) / N_points\n",
        "local_integral = np.zeros(1)\n",
        "\n",
        "#print(local_a, local_b)\n",
        "\n",
        "x = np.linspace(local_a, local_b, local_n)\n",
        "local_integral[0] = np.sum(func(x)) * (b - a) / N_points\n",
        "\n",
        "# Sum up the local integrals\n",
        "integral = np.zeros(1)\n",
        "comm.Reduce(local_integral, integral, op=MPI.SUM, root=0)\n",
        "\n",
        "\n",
        "end_time = MPI.Wtime()\n",
        "\n",
        "mpi_time = end_time - start_time\n",
        "\n",
        "if rank == 0:\n",
        "    print(\"Numerical result:\", integral[0])\n",
        "    #print(\"Elapsed times from all processes:\", mpi_time)\n",
        "    print(mpi_time)\n",
        "\n",
        "MPI.Finalize()"
      ],
      "metadata": {
        "colab": {
          "base_uri": "https://localhost:8080/"
        },
        "id": "J8IblWzrcudT",
        "outputId": "31a939db-4ba4-402d-b7cc-2e36b1b8e4f9"
      },
      "execution_count": 10,
      "outputs": [
        {
          "output_type": "stream",
          "name": "stdout",
          "text": [
            "Overwriting parallel_MPI.py\n"
          ]
        }
      ]
    },
    {
      "cell_type": "code",
      "source": [
        "!mpirun -n 4 --allow-run-as-root --oversubscribe python parallel_MPI.py"
      ],
      "metadata": {
        "colab": {
          "base_uri": "https://localhost:8080/"
        },
        "id": "kvV98a1ydeIB",
        "outputId": "34032ea9-53ad-4bfc-c7a1-3e205bbed190"
      },
      "execution_count": 11,
      "outputs": [
        {
          "output_type": "stream",
          "name": "stdout",
          "text": [
            "Numerical result: 4.83337516733601\n",
            "0.000481988\n"
          ]
        }
      ]
    },
    {
      "cell_type": "code",
      "source": [
        "_, mpi_time = !mpirun -n 2 --allow-run-as-root --oversubscribe python parallel_MPI.py"
      ],
      "metadata": {
        "id": "o03nK98-auuI"
      },
      "execution_count": 12,
      "outputs": []
    },
    {
      "cell_type": "markdown",
      "source": [
        "### Achieve speed up > 1.5 with 2 process parallel version vs. 1 process sequential version"
      ],
      "metadata": {
        "id": "0FSgPim2Rr7y"
      }
    },
    {
      "cell_type": "code",
      "source": [
        "float(mpi_time) / analytical_time.best"
      ],
      "metadata": {
        "colab": {
          "base_uri": "https://localhost:8080/"
        },
        "id": "aCuNlqZ3RvXJ",
        "outputId": "49fb1d92-1621-4747-b7b2-3d352c08e092"
      },
      "execution_count": 13,
      "outputs": [
        {
          "output_type": "execute_result",
          "data": {
            "text/plain": [
              "1156.7855985408733"
            ]
          },
          "metadata": {},
          "execution_count": 13
        }
      ]
    },
    {
      "cell_type": "markdown",
      "source": [
        "### MPI check"
      ],
      "metadata": {
        "id": "-ttbUiUYO_Gb"
      }
    },
    {
      "cell_type": "code",
      "source": [
        "num_processes = [1, 2, 4]\n",
        "def mpi_check(N):\n",
        "  value, mpi_time = !mpirun -n {N} --allow-run-as-root --oversubscribe python parallel_MPI.py\n",
        "  return N, value\n",
        "\n",
        "for N in num_processes:\n",
        "   print(mpi_check(N))"
      ],
      "metadata": {
        "colab": {
          "base_uri": "https://localhost:8080/"
        },
        "id": "_0Wr1oGoPD4r",
        "outputId": "c349c79a-0c4f-4876-a94e-e0aba7a2336e"
      },
      "execution_count": 14,
      "outputs": [
        {
          "output_type": "stream",
          "name": "stdout",
          "text": [
            "(1, 'Numerical result: 4.833500166833501')\n",
            "(2, 'Numerical result: 4.833416833667335')\n",
            "(4, 'Numerical result: 4.83337516733601')\n"
          ]
        }
      ]
    },
    {
      "cell_type": "code",
      "source": [
        "def mpi(N):\n",
        "  _, mpi_time = !mpirun -n {N} --allow-run-as-root --oversubscribe python parallel_MPI.py\n",
        "  return mpi_time\n",
        "\n",
        "\n",
        "num_processes = [1, 2, 4]\n",
        "parallel_time, serial_time = [], [analytical_time.best]*len(num_processes)\n",
        "\n",
        "for N in num_processes:\n",
        "    parallel_time.append(float32(mpi(N)))\n",
        "\n",
        "speedup = [parallel / serial for parallel, serial in zip(parallel_time, serial_time)]"
      ],
      "metadata": {
        "id": "uufg_iP3HOW9"
      },
      "execution_count": 15,
      "outputs": []
    },
    {
      "cell_type": "code",
      "source": [
        "plot(num_processes, speedup, marker='o')\n",
        "xlabel('Number of Processes')\n",
        "ylabel('Speedup')\n",
        "title('Speedup vs. Number of Processes')\n",
        "show()"
      ],
      "metadata": {
        "colab": {
          "base_uri": "https://localhost:8080/",
          "height": 471
        },
        "id": "-PdIYA9LCBer",
        "outputId": "224b518e-a0a1-4d0d-9c31-08d984f62e4f"
      },
      "execution_count": 16,
      "outputs": [
        {
          "output_type": "display_data",
          "data": {
            "text/plain": [
              "<Figure size 640x480 with 1 Axes>"
            ],
            "image/png": "[encoded data removed]"
          },
          "metadata": {}
        }
      ]
    },
    {
      "cell_type": "code",
      "source": [],
      "metadata": {
        "id": "o_CczOnwcScV"
      },
      "execution_count": 16,
      "outputs": []
    }
  ]
}