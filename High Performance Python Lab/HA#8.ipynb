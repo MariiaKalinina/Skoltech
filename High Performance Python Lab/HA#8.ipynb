{
  "cells": [
    {
      "cell_type": "code",
      "source": [
        "!nvidia-smi"
      ],
      "metadata": {
        "colab": {
          "base_uri": "https://localhost:8080/"
        },
        "id": "V-WdB6MmbnBF",
        "outputId": "6faa1d77-03f6-4191-f75d-e148e08b1cff"
      },
      "execution_count": null,
      "outputs": [
        {
          "output_type": "stream",
          "name": "stdout",
          "text": [
            "/bin/bash: line 1: nvidia-smi: command not found\n"
          ]
        }
      ]
    },
    {
      "cell_type": "code",
      "execution_count": null,
      "metadata": {
        "id": "X9NuO2RX5dq7"
      },
      "outputs": [],
      "source": [
        "import locale\n",
        "locale.getpreferredencoding = lambda: \"UTF-8\""
      ]
    },
    {
      "cell_type": "code",
      "execution_count": null,
      "metadata": {
        "id": "BDsozMpo5id4",
        "colab": {
          "base_uri": "https://localhost:8080/"
        },
        "outputId": "62f3656b-a5a6-41ef-95c0-bca131cee399"
      },
      "outputs": [
        {
          "output_type": "stream",
          "name": "stdout",
          "text": [
            "nvcc: NVIDIA (R) Cuda compiler driver\n",
            "Copyright (c) 2005-2023 NVIDIA Corporation\n",
            "Built on Tue_Aug_15_22:02:13_PDT_2023\n",
            "Cuda compilation tools, release 12.2, V12.2.140\n",
            "Build cuda_12.2.r12.2/compiler.33191640_0\n"
          ]
        }
      ],
      "source": [
        "!nvcc --version"
      ]
    },
    {
      "cell_type": "code",
      "execution_count": null,
      "metadata": {
        "id": "Jkn3I_9e6FId",
        "colab": {
          "base_uri": "https://localhost:8080/"
        },
        "outputId": "e67eb82c-a0a3-4ea8-9700-08c2505bf70e"
      },
      "outputs": [
        {
          "output_type": "stream",
          "name": "stdout",
          "text": [
            "  % Total    % Received % Xferd  Average Speed   Time    Time     Time  Current\n",
            "                                 Dload  Upload   Total   Spent    Left  Speed\n",
            "100  1553  100  1553    0     0  12386      0 --:--:-- --:--:-- --:--:-- 12325\n",
            "sh: 9: nvidia-smi: not found\n",
            "********************************************************************************\n",
            "GPU is not enabled!\n",
            "Open \"Runtime\" > \"Change runtime type\" and set \"Hardware accelerator\" to \"GPU\".\n",
            "********************************************************************************\n"
          ]
        }
      ],
      "source": [
        "!curl https://colab.chainer.org/install | sh"
      ]
    },
    {
      "cell_type": "code",
      "execution_count": null,
      "metadata": {
        "id": "vl0pb2Spv2_g",
        "colab": {
          "base_uri": "https://localhost:8080/"
        },
        "outputId": "ed0c8777-7656-4bde-d144-98224df2c17c"
      },
      "outputs": [
        {
          "output_type": "stream",
          "name": "stdout",
          "text": [
            "Requirement already satisfied: chainer in /usr/local/lib/python3.10/dist-packages (7.8.1)\n",
            "Requirement already satisfied: setuptools in /usr/local/lib/python3.10/dist-packages (from chainer) (67.7.2)\n",
            "Requirement already satisfied: typing-extensions in /usr/local/lib/python3.10/dist-packages (from chainer) (4.5.0)\n",
            "Requirement already satisfied: filelock in /usr/local/lib/python3.10/dist-packages (from chainer) (3.13.1)\n",
            "Requirement already satisfied: numpy>=1.9.0 in /usr/local/lib/python3.10/dist-packages (from chainer) (1.23.5)\n",
            "Requirement already satisfied: protobuf>=3.0.0 in /usr/local/lib/python3.10/dist-packages (from chainer) (3.20.3)\n",
            "Requirement already satisfied: six>=1.9.0 in /usr/local/lib/python3.10/dist-packages (from chainer) (1.16.0)\n"
          ]
        }
      ],
      "source": [
        "!pip install chainer"
      ]
    },
    {
      "cell_type": "code",
      "execution_count": null,
      "metadata": {
        "colab": {
          "base_uri": "https://localhost:8080/"
        },
        "id": "qR6-xS-6DkR-",
        "outputId": "a2d2f6a4-9529-4224-bcdc-f20f322fa5fe"
      },
      "outputs": [
        {
          "output_type": "stream",
          "name": "stdout",
          "text": [
            "Requirement already satisfied: cupy-cuda12x in /usr/local/lib/python3.10/dist-packages (12.2.0)\n",
            "Requirement already satisfied: numpy<1.27,>=1.20 in /usr/local/lib/python3.10/dist-packages (from cupy-cuda12x) (1.23.5)\n",
            "Requirement already satisfied: fastrlock>=0.5 in /usr/local/lib/python3.10/dist-packages (from cupy-cuda12x) (0.8.2)\n"
          ]
        }
      ],
      "source": [
        "!pip install cupy-cuda12x"
      ]
    },
    {
      "cell_type": "code",
      "source": [
        "!pip install mpi4py"
      ],
      "metadata": {
        "id": "AVaEfxUtXjTL"
      },
      "execution_count": null,
      "outputs": []
    },
    {
      "cell_type": "code",
      "execution_count": null,
      "metadata": {
        "id": "SolOrnk05ozd",
        "colab": {
          "base_uri": "https://localhost:8080/",
          "height": 863
        },
        "outputId": "2fe3dc0b-3431-4f70-8149-82cab9af6ad2"
      },
      "outputs": [
        {
          "output_type": "error",
          "ename": "ImportError",
          "evalue": "ignored",
          "traceback": [
            "\u001b[0;31m---------------------------------------------------------------------------\u001b[0m",
            "\u001b[0;31mImportError\u001b[0m                               Traceback (most recent call last)",
            "\u001b[0;32m/usr/local/lib/python3.10/dist-packages/cupy/__init__.py\u001b[0m in \u001b[0;36m<module>\u001b[0;34m\u001b[0m\n\u001b[1;32m     16\u001b[0m \u001b[0;32mtry\u001b[0m\u001b[0;34m:\u001b[0m\u001b[0;34m\u001b[0m\u001b[0;34m\u001b[0m\u001b[0m\n\u001b[0;32m---> 17\u001b[0;31m     \u001b[0;32mfrom\u001b[0m \u001b[0mcupy\u001b[0m \u001b[0;32mimport\u001b[0m \u001b[0m_core\u001b[0m  \u001b[0;31m# NOQA\u001b[0m\u001b[0;34m\u001b[0m\u001b[0;34m\u001b[0m\u001b[0m\n\u001b[0m\u001b[1;32m     18\u001b[0m \u001b[0;32mexcept\u001b[0m \u001b[0mImportError\u001b[0m \u001b[0;32mas\u001b[0m \u001b[0mexc\u001b[0m\u001b[0;34m:\u001b[0m\u001b[0;34m\u001b[0m\u001b[0;34m\u001b[0m\u001b[0m\n",
            "\u001b[0;32m/usr/local/lib/python3.10/dist-packages/cupy/_core/__init__.py\u001b[0m in \u001b[0;36m<module>\u001b[0;34m\u001b[0m\n\u001b[1;32m      2\u001b[0m \u001b[0;34m\u001b[0m\u001b[0m\n\u001b[0;32m----> 3\u001b[0;31m \u001b[0;32mfrom\u001b[0m \u001b[0mcupy\u001b[0m\u001b[0;34m.\u001b[0m\u001b[0m_core\u001b[0m \u001b[0;32mimport\u001b[0m \u001b[0mcore\u001b[0m  \u001b[0;31m# NOQA\u001b[0m\u001b[0;34m\u001b[0m\u001b[0;34m\u001b[0m\u001b[0m\n\u001b[0m\u001b[1;32m      4\u001b[0m \u001b[0;32mfrom\u001b[0m \u001b[0mcupy\u001b[0m\u001b[0;34m.\u001b[0m\u001b[0m_core\u001b[0m \u001b[0;32mimport\u001b[0m \u001b[0mfusion\u001b[0m  \u001b[0;31m# NOQA\u001b[0m\u001b[0;34m\u001b[0m\u001b[0;34m\u001b[0m\u001b[0m\n",
            "\u001b[0;31mImportError\u001b[0m: libcuda.so.1: cannot open shared object file: No such file or directory",
            "\nThe above exception was the direct cause of the following exception:\n",
            "\u001b[0;31mImportError\u001b[0m                               Traceback (most recent call last)",
            "\u001b[0;32m<ipython-input-63-209c80a2b998>\u001b[0m in \u001b[0;36m<cell line: 1>\u001b[0;34m()\u001b[0m\n\u001b[0;32m----> 1\u001b[0;31m \u001b[0;32mimport\u001b[0m \u001b[0mcupy\u001b[0m \u001b[0;32mas\u001b[0m \u001b[0mcp\u001b[0m\u001b[0;34m\u001b[0m\u001b[0;34m\u001b[0m\u001b[0m\n\u001b[0m\u001b[1;32m      2\u001b[0m \u001b[0;32mimport\u001b[0m \u001b[0mnumpy\u001b[0m \u001b[0;32mas\u001b[0m \u001b[0mnp\u001b[0m\u001b[0;34m\u001b[0m\u001b[0;34m\u001b[0m\u001b[0m\n\u001b[1;32m      3\u001b[0m \u001b[0;32mimport\u001b[0m \u001b[0mmatplotlib\u001b[0m\u001b[0;34m.\u001b[0m\u001b[0mpyplot\u001b[0m \u001b[0;32mas\u001b[0m \u001b[0mplt\u001b[0m\u001b[0;34m\u001b[0m\u001b[0;34m\u001b[0m\u001b[0m\n\u001b[1;32m      4\u001b[0m \u001b[0;32mfrom\u001b[0m \u001b[0mcupyx\u001b[0m\u001b[0;34m.\u001b[0m\u001b[0mprofiler\u001b[0m \u001b[0;32mimport\u001b[0m \u001b[0mbenchmark\u001b[0m\u001b[0;34m\u001b[0m\u001b[0;34m\u001b[0m\u001b[0m\n\u001b[1;32m      5\u001b[0m \u001b[0;32mimport\u001b[0m \u001b[0mtimeit\u001b[0m\u001b[0;34m\u001b[0m\u001b[0;34m\u001b[0m\u001b[0m\n",
            "\u001b[0;32m/usr/local/lib/python3.10/dist-packages/cupy/__init__.py\u001b[0m in \u001b[0;36m<module>\u001b[0;34m\u001b[0m\n\u001b[1;32m     17\u001b[0m     \u001b[0;32mfrom\u001b[0m \u001b[0mcupy\u001b[0m \u001b[0;32mimport\u001b[0m \u001b[0m_core\u001b[0m  \u001b[0;31m# NOQA\u001b[0m\u001b[0;34m\u001b[0m\u001b[0;34m\u001b[0m\u001b[0m\n\u001b[1;32m     18\u001b[0m \u001b[0;32mexcept\u001b[0m \u001b[0mImportError\u001b[0m \u001b[0;32mas\u001b[0m \u001b[0mexc\u001b[0m\u001b[0;34m:\u001b[0m\u001b[0;34m\u001b[0m\u001b[0;34m\u001b[0m\u001b[0m\n\u001b[0;32m---> 19\u001b[0;31m     raise ImportError(f'''\n\u001b[0m\u001b[1;32m     20\u001b[0m \u001b[0;34m==\u001b[0m\u001b[0;34m==\u001b[0m\u001b[0;34m==\u001b[0m\u001b[0;34m==\u001b[0m\u001b[0;34m==\u001b[0m\u001b[0;34m==\u001b[0m\u001b[0;34m==\u001b[0m\u001b[0;34m==\u001b[0m\u001b[0;34m==\u001b[0m\u001b[0;34m==\u001b[0m\u001b[0;34m==\u001b[0m\u001b[0;34m==\u001b[0m\u001b[0;34m==\u001b[0m\u001b[0;34m==\u001b[0m\u001b[0;34m==\u001b[0m\u001b[0;34m==\u001b[0m\u001b[0;34m==\u001b[0m\u001b[0;34m==\u001b[0m\u001b[0;34m==\u001b[0m\u001b[0;34m==\u001b[0m\u001b[0;34m==\u001b[0m\u001b[0;34m==\u001b[0m\u001b[0;34m==\u001b[0m\u001b[0;34m==\u001b[0m\u001b[0;34m==\u001b[0m\u001b[0;34m==\u001b[0m\u001b[0;34m==\u001b[0m\u001b[0;34m==\u001b[0m\u001b[0;34m==\u001b[0m\u001b[0;34m==\u001b[0m\u001b[0;34m==\u001b[0m\u001b[0;34m==\u001b[0m\u001b[0;34m\u001b[0m\u001b[0;34m\u001b[0m\u001b[0m\n\u001b[1;32m     21\u001b[0m \u001b[0;34m{\u001b[0m\u001b[0m_environment\u001b[0m\u001b[0;34m.\u001b[0m\u001b[0m_diagnose_import_error\u001b[0m\u001b[0;34m(\u001b[0m\u001b[0;34m)\u001b[0m\u001b[0;34m}\u001b[0m\u001b[0;34m\u001b[0m\u001b[0;34m\u001b[0m\u001b[0m\n",
            "\u001b[0;31mImportError\u001b[0m: \n================================================================\nFailed to import CuPy.\n\nIf you installed CuPy via wheels (cupy-cudaXXX or cupy-rocm-X-X), make sure that the package matches with the version of CUDA or ROCm installed.\n\nOn Linux, you may need to set LD_LIBRARY_PATH environment variable depending on how you installed CUDA/ROCm.\nOn Windows, try setting CUDA_PATH environment variable.\n\nCheck the Installation Guide for details:\n  https://docs.cupy.dev/en/latest/install.html\n\nOriginal error:\n  ImportError: libcuda.so.1: cannot open shared object file: No such file or directory\n================================================================\n",
            "",
            "\u001b[0;31m---------------------------------------------------------------------------\u001b[0;32m\nNOTE: If your import is failing due to a missing package, you can\nmanually install dependencies using either !pip or !apt.\n\nTo view examples of installing some common dependencies, click the\n\"Open Examples\" button below.\n\u001b[0;31m---------------------------------------------------------------------------\u001b[0m\n"
          ],
          "errorDetails": {
            "actions": [
              {
                "action": "open_url",
                "actionText": "Open Examples",
                "url": "/notebooks/snippets/importing_libraries.ipynb"
              }
            ]
          }
        }
      ],
      "source": [
        "import cupy as cp\n",
        "import numpy as np\n",
        "import matplotlib.pyplot as plt\n",
        "from cupyx.profiler import benchmark\n",
        "import timeit\n",
        "from timeit import default_timer"
      ]
    },
    {
      "cell_type": "markdown",
      "source": [
        "# Saxpy"
      ],
      "metadata": {
        "id": "mzbAAZ5nVR59"
      }
    },
    {
      "cell_type": "code",
      "execution_count": null,
      "metadata": {
        "id": "oQCyy6hFY8t1"
      },
      "outputs": [],
      "source": [
        "def saxpy(x, y, alpha):\n",
        "  return alpha*x + y"
      ]
    },
    {
      "cell_type": "code",
      "execution_count": null,
      "metadata": {
        "id": "TnXVzGWYCZti"
      },
      "outputs": [],
      "source": [
        "@cp.fuse(kernel_name='saxpy_cp')\n",
        "def saxpy_cp(x, y, alpha):\n",
        "  return alpha*x + y"
      ]
    },
    {
      "cell_type": "code",
      "execution_count": null,
      "metadata": {
        "id": "qmSYqn20ecaw"
      },
      "outputs": [],
      "source": [
        "N = 100\n",
        "x_np = np.random.rand(N, N).astype(np.float32)\n",
        "y_np = np.random.rand(N, N).astype(np.float32)\n",
        "alpha_np = np.random.rand()"
      ]
    },
    {
      "cell_type": "code",
      "execution_count": null,
      "metadata": {
        "id": "FednZ2IMd-lP"
      },
      "outputs": [],
      "source": [
        "%%timeit\n",
        "saxpy(x_np, y_np, alpha_np)"
      ]
    },
    {
      "cell_type": "code",
      "execution_count": null,
      "metadata": {
        "id": "b7uq-K_GetQp"
      },
      "outputs": [],
      "source": [
        "N = 100\n",
        "x_cp = cp.random.rand(N, N).astype(cp.float32)\n",
        "y_cp = cp.random.rand(N, N).astype(cp.float32)\n",
        "alpha_cp = cp.random.rand()"
      ]
    },
    {
      "cell_type": "code",
      "execution_count": null,
      "metadata": {
        "id": "yf4dfEFJfJxc"
      },
      "outputs": [],
      "source": [
        "%%timeit\n",
        "saxpy_cp(x_cp, y_cp, alpha_cp)\n",
        "cp.cuda.Device(0).synchronize()"
      ]
    },
    {
      "cell_type": "code",
      "execution_count": null,
      "metadata": {
        "id": "gdj0FmLgh1jx"
      },
      "outputs": [],
      "source": [
        "benchmark(saxpy, (x_cp, y_cp, alpha_cp), n_repeat=20, n_warmup=1)"
      ]
    },
    {
      "cell_type": "markdown",
      "metadata": {
        "id": "AgU7KD5X2EN9"
      },
      "source": [
        "# Key differences between CuPy and NumPy is that CuPy allows for the seamless transfer of arrays between the CPU and GPU."
      ]
    },
    {
      "cell_type": "markdown",
      "source": [
        "# Function saxpy that runs on GPU using cupy is provided."
      ],
      "metadata": {
        "id": "kLI0pDMhTR98"
      }
    },
    {
      "cell_type": "code",
      "execution_count": null,
      "metadata": {
        "id": "ou06-psCwRnL"
      },
      "outputs": [],
      "source": [
        "array_size, comp_time_np, comp_time_cp = [], [], []\n",
        "N = list(map(lambda x: 10**x, range(0, 8)))\n",
        "\n",
        "for i in N:\n",
        "  ### NumPy\n",
        "  start = default_timer()\n",
        "  x_np = np.random.rand(i).astype(np.float32)\n",
        "  y_np = np.random.rand(i).astype(np.float32)\n",
        "  alpha_np = np.random.rand()\n",
        "  saxpy(x_np, y_np, alpha_np)\n",
        "  comp_time_np.append(default_timer() - start)\n",
        "\n",
        "  ### CuPy\n",
        "  start = default_timer()\n",
        "  x_cp = cp.random.rand(i).astype(cp.float32)\n",
        "  y_cp = cp.random.rand(i).astype(cp.float32)\n",
        "  alpha_cp = cp.random.rand()\n",
        "  saxpy_cp(x_cp, y_cp, alpha_cp)\n",
        "  comp_time_cp.append(default_timer() - start)"
      ]
    },
    {
      "cell_type": "markdown",
      "source": [
        "# Plot computation time of numpy and cupy implementations of saxpy"
      ],
      "metadata": {
        "id": "U4PHVQYMTI5q"
      }
    },
    {
      "cell_type": "code",
      "execution_count": null,
      "metadata": {
        "id": "T7GgzHiHxTI2"
      },
      "outputs": [],
      "source": [
        "fig = plt.figure(layout='constrained', figsize=(10, 4))\n",
        "axs = fig.subplots(1, 2, sharex=True)\n",
        "\n",
        "\n",
        "for ax in axs:\n",
        "    ax.set_xlabel(\"size of arrays\")\n",
        "    ax.set_xscale('log', base=10)\n",
        "    ax.grid()\n",
        "\n",
        "\n",
        "axs[0].plot(N, comp_time_np, label='NumPy')\n",
        "axs[0].plot(N, comp_time_cp, label=\"CuPy\" )\n",
        "axs[0].set_ylabel(\"computation time, s\")\n",
        "axs[0].legend()\n",
        "\n",
        "\n",
        "axs[1].plot(N,\n",
        "            list(map(lambda x, y: x/y,comp_time_np, comp_time_cp)),\n",
        "            marker='o'\n",
        "            )\n",
        "axs[1].set_ylabel(\"speed up\")"
      ]
    },
    {
      "cell_type": "markdown",
      "source": [
        "# Bifurcation diagram"
      ],
      "metadata": {
        "id": "Q8nhqHTzVVPQ"
      }
    },
    {
      "cell_type": "markdown",
      "source": [
        "### Bifurcation map is performed using numpy arrays"
      ],
      "metadata": {
        "id": "pMUDeQLjViwG"
      }
    },
    {
      "cell_type": "code",
      "execution_count": null,
      "metadata": {
        "id": "qymRN5v_-z2-"
      },
      "outputs": [],
      "source": [
        "x0 = 0.1\n",
        "r_min, r_max = 1, 5.0\n",
        "num_steps = 1000\n",
        "n, k = 1000, 500"
      ]
    },
    {
      "cell_type": "code",
      "execution_count": null,
      "metadata": {
        "id": "-4zYlXx3-3A7"
      },
      "outputs": [],
      "source": [
        "from scipy.integrate import quad\n",
        "\n",
        "def logistic_map(x, r):\n",
        "    return r * x * (1. - x)"
      ]
    },
    {
      "cell_type": "code",
      "execution_count": null,
      "metadata": {
        "id": "pD6ttGSQrnNt"
      },
      "outputs": [],
      "source": [
        "def bifurcation_diagram_np(x0, r_min, r_max, num_steps, n, k):\n",
        "    r_list = np.linspace(r_min, r_max, num_steps)\n",
        "    bifurcations = []\n",
        "\n",
        "    for r in r_list:\n",
        "        x = x0\n",
        "        for i in range(n + k):\n",
        "            if i >= k:\n",
        "                bifurcations.append([r, x])\n",
        "            x = logistic_map(x, r)\n",
        "\n",
        "\n",
        "    bifurcations = np.array(bifurcations)\n",
        "    return bifurcations\n",
        "\n",
        "bifurcations = bifurcation_diagram_np(x0, r_min, r_max, num_steps, n, k)"
      ]
    },
    {
      "cell_type": "code",
      "execution_count": null,
      "metadata": {
        "id": "PEOqHmeo--oQ"
      },
      "outputs": [],
      "source": [
        "plt.plot(bifurcations[:,0], bifurcations[:,1], 'o', markersize=0.2)\n",
        "plt.xlabel('r')\n",
        "plt.ylim(0, 1)\n",
        "plt.ylabel('x')\n",
        "plt.title('Numpy')\n",
        "plt.show()"
      ]
    },
    {
      "cell_type": "markdown",
      "source": [
        "### Bifurcation map is performed using cupy arrays"
      ],
      "metadata": {
        "id": "fgl6r0o7S1yM"
      }
    },
    {
      "cell_type": "code",
      "execution_count": null,
      "metadata": {
        "id": "TpdY-fduMgwL"
      },
      "outputs": [],
      "source": [
        "@cp.fuse(kernel_name='logistic_map_cp')\n",
        "def logistic_map_cp(x, r):\n",
        "    return r * x * (1. - x)"
      ]
    },
    {
      "cell_type": "code",
      "execution_count": null,
      "metadata": {
        "id": "ayzY5zekrqI0"
      },
      "outputs": [],
      "source": [
        "@cp.fuse(kernel_name='bifurcation_diagram_cp')\n",
        "def bifurcation_diagram_cp(x0, r_min, r_max, num_steps, n, k):\n",
        "    r_list = cp.linspace(r_min, r_max, num_steps)\n",
        "    bifurcations = []\n",
        "\n",
        "    for r in r_list:\n",
        "        x = x0\n",
        "        for i in range(n + k):\n",
        "            if i >= k:\n",
        "                bifurcations.append([r, x])\n",
        "            x = logistic_map_cp(x, r)\n",
        "\n",
        "\n",
        "    bifurcations = cp.array(bifurcations)\n",
        "    return bifurcations\n",
        "\n",
        "bifurcations_cp = bifurcation_diagram_cp(x0, r_min, r_max, num_steps, n, k)"
      ]
    },
    {
      "cell_type": "code",
      "execution_count": null,
      "metadata": {
        "id": "0_NvPVnq_NGc"
      },
      "outputs": [],
      "source": [
        "plt.plot(bifurcations_cp[:,0].get(),\n",
        "         bifurcations_cp[:,1].get(), 'o', markersize=0.2)\n",
        "plt.xlabel('r')\n",
        "plt.ylim(0, 1)\n",
        "plt.ylabel('x')\n",
        "plt.show()"
      ]
    },
    {
      "cell_type": "markdown",
      "metadata": {
        "id": "Ghxro2V7OFx6"
      },
      "source": [
        "### Bifurcation map is performed using MPI"
      ]
    },
    {
      "cell_type": "code",
      "execution_count": null,
      "metadata": {
        "id": "Z9AxWa_n-afp"
      },
      "outputs": [],
      "source": [
        "%%writefile bifurcation_diagram_MPI.py\n",
        "\n",
        "from mpi4py import MPI\n",
        "import numpy as np\n",
        "import matplotlib.pyplot as plt\n",
        "import warnings\n",
        "import os\n",
        "warnings.filterwarnings('ignore')\n",
        "\n",
        "x0 = 0.1\n",
        "r_min, r_max = 1, 5.0\n",
        "num_steps = 10000\n",
        "n, k = 1000, 500\n",
        "\n",
        "comm = MPI.COMM_WORLD\n",
        "size = comm.Get_size()\n",
        "rank = comm.Get_rank()\n",
        "\n",
        "start_time = MPI.Wtime()\n",
        "\n",
        "local_n = num_steps // size\n",
        "r_min_local = r_min + rank * local_n * (r_max-r_min) / num_steps\n",
        "r_max_local = r_min_local + local_n * (r_max-r_min) / num_steps\n",
        "local_r_values = np.linspace(r_min_local, r_max_local, local_n)\n",
        "\n",
        "\n",
        "local_bifurcations = []\n",
        "\n",
        "def logistic_map(x, r):\n",
        "    return r * x * (1. - x)\n",
        "\n",
        "for r in local_r_values:\n",
        "    x = x0\n",
        "    for i in range(n + k):\n",
        "        if i >= k:\n",
        "            local_bifurcations.append([r, x])\n",
        "        x = logistic_map(x, r)\n",
        "\n",
        "\n",
        "all_bifurcation = np.empty(local_n * size, dtype=np.float32)\n",
        "all_bifurcation = comm.gather(local_bifurcations, root=0)\n",
        "\n",
        "end_time = MPI.Wtime()\n",
        "mpi_time = end_time - start_time\n",
        "\n",
        "MPI.Finalize()\n",
        "\n",
        "if rank == 0:\n",
        "\n",
        "    data = np.concatenate(all_bifurcation)\n",
        "    print(mpi_time)\n",
        "\n",
        "    plt.scatter(data[:,0], data[:,1], s=1)\n",
        "    plt.xlabel('r')\n",
        "    plt.ylabel('x')\n",
        "    plt.savefig('Bif_mpi.png')"
      ]
    },
    {
      "cell_type": "code",
      "source": [
        "!mpirun -n 4 --allow-run-as-root --oversubscribe python bifurcation_diagram_MPI.py"
      ],
      "metadata": {
        "id": "nTNcqJZCW7b3"
      },
      "execution_count": null,
      "outputs": []
    },
    {
      "cell_type": "code",
      "execution_count": null,
      "metadata": {
        "id": "HPeSEobhPOti"
      },
      "outputs": [],
      "source": [
        "start = default_timer()\n",
        "bifurcation_diagram_cp(x0, r_min, r_max, num_steps, n, k)\n",
        "serial_time_cp = (default_timer() - start)"
      ]
    },
    {
      "cell_type": "code",
      "source": [
        "start = default_timer()\n",
        "bifurcation_diagram_np(x0, r_min, r_max, num_steps, n, k)\n",
        "serial_time_np = (default_timer() - start)"
      ],
      "metadata": {
        "id": "ocTrygD3SBry"
      },
      "execution_count": null,
      "outputs": []
    },
    {
      "cell_type": "markdown",
      "source": [
        "# Plot computation time of CPU, CPU parallel, and GPU implementations."
      ],
      "metadata": {
        "id": "q91smu_2S8h0"
      }
    },
    {
      "cell_type": "code",
      "execution_count": null,
      "metadata": {
        "id": "Ni8OYnnJ-Q40"
      },
      "outputs": [],
      "source": [
        "def mpi(N):\n",
        "  mpi_time = !mpirun -n {N} --allow-run-as-root --oversubscribe python bifurcation_diagram_MPI.py\n",
        "  return mpi_time\n",
        "\n",
        "num_processes = [1, 2, 3, 4]\n",
        "parallel_time, serial_np, serial_cp = [], [], []\n",
        "serial_np = [serial_time_np]*len(num_processes)\n",
        "serial_cp = [serial_time_cp]*len(num_processes)\n",
        "\n",
        "for N in num_processes:\n",
        "    parallel_time.append(np.float32(mpi(N)))"
      ]
    },
    {
      "cell_type": "code",
      "source": [
        "plt.plot(num_processes, serial_np, marker='o', label='CPU')\n",
        "plt.plot(num_processes, parallel_time, marker='o', label='CPU parallel')\n",
        "plt.plot(num_processes, serial_cp, marker='o', label='GPU')\n",
        "plt.xlabel('Number of Processes')\n",
        "plt.ylabel('Computation time')\n",
        "plt.title('Computation time vs. Number of Processes')\n",
        "plt.legend()\n",
        "plt.show()"
      ],
      "metadata": {
        "id": "YpCoWxdrRuQ-"
      },
      "execution_count": null,
      "outputs": []
    }
  ],
  "metadata": {
    "accelerator": "GPU",
    "colab": {
      "provenance": [],
      "gpuType": "T4"
    },
    "kernelspec": {
      "display_name": "Python 3",
      "name": "python3"
    },
    "language_info": {
      "name": "python"
    }
  },
  "nbformat": 4,
  "nbformat_minor": 0
}