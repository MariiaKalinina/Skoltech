{
  "nbformat": 4,
  "nbformat_minor": 0,
  "metadata": {
    "colab": {
      "provenance": []
    },
    "kernelspec": {
      "name": "python3",
      "display_name": "Python 3"
    },
    "language_info": {
      "name": "python"
    }
  },
  "cells": [
    {
      "cell_type": "code",
      "execution_count": 1,
      "metadata": {
        "id": "wIJmOJoQWIBg",
        "colab": {
          "base_uri": "https://localhost:8080/"
        },
        "outputId": "8d60429c-8c1e-4b84-f846-ec11af5d1835"
      },
      "outputs": [
        {
          "output_type": "stream",
          "name": "stdout",
          "text": [
            "Populating the interactive namespace from numpy and matplotlib\n"
          ]
        }
      ],
      "source": [
        "import numpy as np\n",
        "import matplotlib.pyplot as plt\n",
        "%matplotlib inline\n",
        "%pylab inline"
      ]
    },
    {
      "cell_type": "markdown",
      "source": [
        "**bifurcation map**"
      ],
      "metadata": {
        "id": "DYtHwCnXcCYo"
      }
    },
    {
      "cell_type": "code",
      "source": [
        "!pip install mpi4py"
      ],
      "metadata": {
        "id": "6j2JLvMGb7P-",
        "colab": {
          "base_uri": "https://localhost:8080/"
        },
        "outputId": "66dcaece-54a3-481e-abf1-fa57b2bc999d"
      },
      "execution_count": 2,
      "outputs": [
        {
          "output_type": "stream",
          "name": "stdout",
          "text": [
            "Collecting mpi4py\n",
            "  Downloading mpi4py-3.1.5.tar.gz (2.5 MB)\n",
            "\u001b[2K     \u001b[90m━━━━━━━━━━━━━━━━━━━━━━━━━━━━━━━━━━━━━━━━\u001b[0m \u001b[32m2.5/2.5 MB\u001b[0m \u001b[31m11.4 MB/s\u001b[0m eta \u001b[36m0:00:00\u001b[0m\n",
            "\u001b[?25h  Installing build dependencies ... \u001b[?25l\u001b[?25hdone\n",
            "  Getting requirements to build wheel ... \u001b[?25l\u001b[?25hdone\n",
            "  Preparing metadata (pyproject.toml) ... \u001b[?25l\u001b[?25hdone\n",
            "Building wheels for collected packages: mpi4py\n",
            "  Building wheel for mpi4py (pyproject.toml) ... \u001b[?25l\u001b[?25hdone\n",
            "  Created wheel for mpi4py: filename=mpi4py-3.1.5-cp310-cp310-linux_x86_64.whl size=2746522 sha256=752e342e669178f9e179a86b53269bdfe2c5eb4fd4e02314607835b8fceb1d23\n",
            "  Stored in directory: /root/.cache/pip/wheels/18/2b/7f/c852523089e9182b45fca50ff56f49a51eeb6284fd25a66713\n",
            "Successfully built mpi4py\n",
            "Installing collected packages: mpi4py\n",
            "Successfully installed mpi4py-3.1.5\n"
          ]
        }
      ]
    },
    {
      "cell_type": "code",
      "source": [
        "%%writefile bifurcation_diagram_MPI.py\n",
        "\n",
        "from mpi4py import MPI\n",
        "import numpy as np\n",
        "import matplotlib.pyplot as plt\n",
        "import warnings\n",
        "import os\n",
        "warnings.filterwarnings('ignore')\n",
        "\n",
        "x0 = 0.1\n",
        "r_min, r_max = 1, 5.0\n",
        "num_steps = 10000\n",
        "n, k = 1000, 500\n",
        "\n",
        "comm = MPI.COMM_WORLD\n",
        "size = comm.Get_size()\n",
        "rank = comm.Get_rank()\n",
        "\n",
        "start_time = MPI.Wtime()\n",
        "\n",
        "local_n = num_steps // size\n",
        "r_min_local = r_min + rank * local_n * (r_max-r_min) / num_steps\n",
        "r_max_local = r_min_local + local_n * (r_max-r_min) / num_steps\n",
        "local_r_values = np.linspace(r_min_local, r_max_local, local_n)\n",
        "\n",
        "\n",
        "local_bifurcations = []\n",
        "\n",
        "def logistic_map(x, r):\n",
        "    return r * x * (1. - x)\n",
        "\n",
        "for r in local_r_values:\n",
        "    x = x0\n",
        "    for i in range(n + k):\n",
        "        if i >= k:\n",
        "            local_bifurcations.append([r, x])\n",
        "        x = logistic_map(x, r)\n",
        "\n",
        "\n",
        "all_bifurcation = np.empty(local_n * size, dtype=np.float32)\n",
        "all_bifurcation = comm.gather(local_bifurcations, root=0)\n",
        "\n",
        "end_time = MPI.Wtime()\n",
        "mpi_time = end_time - start_time\n",
        "\n",
        "MPI.Finalize()\n",
        "\n",
        "if rank == 0:\n",
        "\n",
        "    data = np.concatenate(all_bifurcation)\n",
        "    print(mpi_time)\n",
        "\n",
        "    plt.scatter(data[:,0], data[:,1], s=1)\n",
        "    plt.xlabel('r')\n",
        "    plt.ylabel('x')\n",
        "    plt.savefig('Bif_mpi.png')"
      ],
      "metadata": {
        "id": "yZbtvjMLb7Sn",
        "colab": {
          "base_uri": "https://localhost:8080/"
        },
        "outputId": "b4a15ee5-3308-4d5b-ce40-0359fb5bb6b4"
      },
      "execution_count": 3,
      "outputs": [
        {
          "output_type": "stream",
          "name": "stdout",
          "text": [
            "Writing bifurcation_diagram_MPI.py\n"
          ]
        }
      ]
    },
    {
      "cell_type": "code",
      "source": [
        "!mpirun -n 4 --allow-run-as-root --oversubscribe python bifurcation_diagram_MPI.py"
      ],
      "metadata": {
        "id": "aVw6aIB6b7Vf",
        "colab": {
          "base_uri": "https://localhost:8080/"
        },
        "outputId": "24ee91cc-8204-4964-a081-0c34d4fa6a1e"
      },
      "execution_count": 5,
      "outputs": [
        {
          "output_type": "stream",
          "name": "stdout",
          "text": [
            "75.604295081\n"
          ]
        }
      ]
    },
    {
      "cell_type": "markdown",
      "source": [
        "**Serial**"
      ],
      "metadata": {
        "id": "MPzPvE09cS99"
      }
    },
    {
      "cell_type": "code",
      "source": [
        "from scipy.integrate import quad"
      ],
      "metadata": {
        "id": "rRxKaBiCcSc-"
      },
      "execution_count": 6,
      "outputs": []
    },
    {
      "cell_type": "code",
      "source": [
        "x0 = 0.1\n",
        "r_min, r_max = 1, 5.0\n",
        "num_steps = 10000\n",
        "n, k = 1000, 500"
      ],
      "metadata": {
        "id": "MjMRUhz-cSfm"
      },
      "execution_count": 7,
      "outputs": []
    },
    {
      "cell_type": "code",
      "source": [
        "def logistic_map(x, r):\n",
        "    return r * x * (1. - x)"
      ],
      "metadata": {
        "id": "GJHV97LKcSio"
      },
      "execution_count": 8,
      "outputs": []
    },
    {
      "cell_type": "code",
      "source": [
        "def bifurcation_diagram(x0, r_min, r_max, num_steps, n, k):\n",
        "    r_list = np.linspace(r_min, r_max, num_steps)\n",
        "    bifurcations = []\n",
        "\n",
        "    for r in r_list:\n",
        "        x = x0\n",
        "        for i in range(n + k):\n",
        "            if i >= k:\n",
        "                bifurcations.append([r, x])\n",
        "            x = logistic_map(x, r)\n",
        "\n",
        "\n",
        "    bifurcations = np.array(bifurcations)\n",
        "    return bifurcations"
      ],
      "metadata": {
        "id": "lOy8A57Gb7bB"
      },
      "execution_count": 9,
      "outputs": []
    },
    {
      "cell_type": "code",
      "source": [
        "bifurcations = bifurcation_diagram(x0, r_min, r_max, num_steps, n, k)\n",
        "plot(bifurcations[:,0], bifurcations[:,1], 'o', markersize=0.2)\n",
        "xlabel('r')\n",
        "ylim(0, 1)\n",
        "ylabel('x')\n",
        "show()"
      ],
      "metadata": {
        "id": "eDRKGCuNcdgE",
        "colab": {
          "base_uri": "https://localhost:8080/",
          "height": 491
        },
        "outputId": "3901f56c-0207-480a-d2d0-556b05fe192e"
      },
      "execution_count": 10,
      "outputs": [
        {
          "output_type": "stream",
          "name": "stderr",
          "text": [
            "<ipython-input-8-edb46471b6cc>:2: RuntimeWarning: overflow encountered in double_scalars\n",
            "  return r * x * (1. - x)\n"
          ]
        },
        {
          "output_type": "display_data",
          "data": {
            "text/plain": [
              "<Figure size 640x480 with 1 Axes>"
            ],
            "image/png": "[encoded data removed]"
          },
          "metadata": {}
        }
      ]
    },
    {
      "cell_type": "code",
      "source": [
        "serial_time = %timeit -o bifurcation_diagram(x0, r_min, r_max, num_steps, n, k)\n",
        "serial_time.best"
      ],
      "metadata": {
        "id": "swGQuqzqcdid",
        "colab": {
          "base_uri": "https://localhost:8080/"
        },
        "outputId": "5df56d29-45a3-4c72-a05e-e2f283bdecd0"
      },
      "execution_count": 11,
      "outputs": [
        {
          "output_type": "stream",
          "name": "stderr",
          "text": [
            "<ipython-input-8-edb46471b6cc>:2: RuntimeWarning: overflow encountered in double_scalars\n",
            "  return r * x * (1. - x)\n"
          ]
        },
        {
          "output_type": "stream",
          "name": "stdout",
          "text": [
            "12.4 s ± 555 ms per loop (mean ± std. dev. of 7 runs, 1 loop each)\n"
          ]
        },
        {
          "output_type": "execute_result",
          "data": {
            "text/plain": [
              "11.400982109999973"
            ]
          },
          "metadata": {},
          "execution_count": 11
        }
      ]
    },
    {
      "cell_type": "code",
      "source": [
        "def mpi(N):\n",
        "  mpi_time = !mpirun -n {N} --allow-run-as-root --oversubscribe python bifurcation_diagram_MPI.py\n",
        "  return mpi_time\n",
        "\n",
        "num_processes = [1, 2, 4, 8, 16]\n",
        "parallel_time, number_processes = [], []\n",
        "serial_time = [serial_time.best]*len(num_processes)\n",
        "\n",
        "for N in num_processes:\n",
        "    number_processes.append(N)\n",
        "    parallel_time.append(float32(mpi(N)))\n",
        "\n",
        "speedup = [parallel / serial for parallel, serial in zip(parallel_time, serial_time)]"
      ],
      "metadata": {
        "id": "yPgPrxahchsm"
      },
      "execution_count": null,
      "outputs": []
    },
    {
      "cell_type": "code",
      "source": [
        "plot(num_processes, speedup, marker='o')\n",
        "xlabel('Number of Processes')\n",
        "ylabel('Speedup')\n",
        "title('Speedup vs. Number of Processes')\n",
        "show()"
      ],
      "metadata": {
        "id": "IXNvSMKochyU"
      },
      "execution_count": null,
      "outputs": []
    },
    {
      "cell_type": "markdown",
      "source": [
        "**spectrogram**"
      ],
      "metadata": {
        "id": "nGBPOpvKco3w"
      }
    },
    {
      "cell_type": "code",
      "source": [
        "# generate the signal\n",
        "nofts=1000\n",
        "\n",
        "t=np.linspace(-20*2*pi, 20*2*pi, 2**14+7)\n",
        "\n",
        "y=np.sin(t)*exp(-t**2/2/20**2)\n",
        "y=y+np.sin(3*t)*exp(-(t-5*2*pi)**2/2/20**2)\n",
        "y=y+np.sin(5.5*t)*exp(-(t-10*2*pi)**2/2/5**2)\n",
        "y=y+np.sin(4*t)*exp(-(t-7*2*pi)**2/(2*5**2))\n",
        "\n",
        "plt.plot(t/2/pi,y)\n",
        "\n",
        "xlabel('t, cycles')\n",
        "ylabel('signal, arb.units')"
      ],
      "metadata": {
        "id": "Qs5B1PmDWPhb"
      },
      "execution_count": null,
      "outputs": []
    },
    {
      "cell_type": "code",
      "source": [
        "def get_spectrogram(time=t, signal=y, nwindowsteps=1000):\n",
        "\n",
        "    data = np.zeros((time.shape[0], nwindowsteps))\n",
        "    width = 1\n",
        "    positions_list = np.linspace(-20, 20, nwindowsteps)\n",
        "\n",
        "    for pos_id, position in enumerate(positions_list):\n",
        "        window_width = width*2* pi\n",
        "        window_position = position*2*pi\n",
        "        window_function = exp(-(time - window_position)**2 / (2 * window_width**2))\n",
        "        y_window = signal * window_function\n",
        "        data[:, pos_id] = abs(np.fft.fft(y_window))\n",
        "\n",
        "    return data"
      ],
      "metadata": {
        "id": "SoyZDM53WPjx"
      },
      "execution_count": null,
      "outputs": []
    },
    {
      "cell_type": "code",
      "source": [
        "get_spectrogram()"
      ],
      "metadata": {
        "id": "JBnYm7W8XTYQ"
      },
      "execution_count": null,
      "outputs": []
    },
    {
      "cell_type": "code",
      "source": [
        "serial_time = %timeit -o get_spectrogram()\n",
        "serial_time.best"
      ],
      "metadata": {
        "id": "GPLJkxFIa9Zl"
      },
      "execution_count": null,
      "outputs": []
    },
    {
      "cell_type": "code",
      "source": [
        "%%writefile spectrogram_MPI.py\n",
        "\n",
        "from mpi4py import MPI\n",
        "import numpy as np\n",
        "import matplotlib.pyplot as plt\n",
        "import warnings\n",
        "import os\n",
        "warnings.filterwarnings('ignore')\n",
        "\n",
        "    ### generate the signal\n",
        "\n",
        "nwindowsteps=1000\n",
        "\n",
        "\n",
        "t=np.linspace(-20*2*np.pi, 20*2*np.pi, 2**14+7)\n",
        "\n",
        "y=np.sin(t)*np.exp(-t**2/2/20**2)\n",
        "y=y+np.sin(3*t)*np.exp(-(t-5*2*np.pi)**2/2/20**2)\n",
        "y=y+np.sin(5.5*t)*np.exp(-(t-10*2*np.pi)**2/2/5**2)\n",
        "y=y+np.sin(4*t)*np.exp(-(t-7*2*np.pi)**2/(2*5**2))\n",
        "\n",
        "time, signal =t, y\n",
        "\n",
        "comm = MPI.COMM_WORLD\n",
        "size = comm.Get_size()\n",
        "rank = comm.Get_rank()\n",
        "\n",
        "start_time = MPI.Wtime()\n",
        "\n",
        "\n",
        "data = np.zeros((time.shape[0], nwindowsteps))\n",
        "width = 1\n",
        "positions_list = np.linspace(-20, 20, nwindowsteps)\n",
        "\n",
        "# Divide the range of positions into equal-sized chunks\n",
        "local_n = nwindowsteps // size\n",
        "start_index = rank * local_n\n",
        "end_index = (rank + 1) * local_n\n",
        "\n",
        "\n",
        "for pos_id, position in enumerate(positions_list[start_index:end_index]):\n",
        "    window_width = width * 2 * np.pi\n",
        "    window_position = position * 2 * np.pi\n",
        "    window_function = np.exp(-(time - window_position)**2 / (2 * window_width**2))\n",
        "    y_window = signal * window_function\n",
        "    data[:, start_index + pos_id] = np.abs(np.fft.fft(y_window))\n",
        "\n",
        "result = comm.gather(data, root=0)\n",
        "\n",
        "end_time = MPI.Wtime()\n",
        "mpi_time = end_time - start_time\n",
        "\n",
        "MPI.Finalize()\n",
        "\n",
        "if rank == 0:\n",
        "        result = np.concatenate(result, axis=1)\n",
        "        print(mpi_time)"
      ],
      "metadata": {
        "id": "gcq1WiDlXvay"
      },
      "execution_count": null,
      "outputs": []
    },
    {
      "cell_type": "code",
      "source": [
        "!mpirun -n 8 --allow-run-as-root --oversubscribe python spectrogram_MPI.py"
      ],
      "metadata": {
        "id": "x7aGKo2EZvok"
      },
      "execution_count": null,
      "outputs": []
    },
    {
      "cell_type": "code",
      "source": [
        "def mpi(N):\n",
        "  mpi_time = !mpirun -n {N} --allow-run-as-root --oversubscribe python spectrogram_MPI.py\n",
        "  return mpi_time\n",
        "\n",
        "num_processes = [1, 2, 4, 8, 16]\n",
        "# num_processes = [1, 2, 4, 8, 16, 32, 64, 128]\n",
        "parallel_time, number_processes = [], []\n",
        "serial_time = [serial_time.best]*len(num_processes)\n",
        "\n",
        "for N in num_processes:\n",
        "    number_processes.append(N)\n",
        "    parallel_time.append(float32(mpi(N)))\n",
        "\n",
        "speedup = [parallel / serial for parallel, serial in zip(parallel_time, serial_time)]"
      ],
      "metadata": {
        "id": "PqWqjGLhZ3W-"
      },
      "execution_count": null,
      "outputs": []
    },
    {
      "cell_type": "code",
      "source": [
        "plot(num_processes, speedup, marker='o')\n",
        "xlabel('Number of Processes')\n",
        "ylabel('Speedup')\n",
        "title('Speedup vs. Number of Processes')\n",
        "show()"
      ],
      "metadata": {
        "id": "OoHeJpPfbOmf"
      },
      "execution_count": null,
      "outputs": []
    },
    {
      "cell_type": "code",
      "source": [],
      "metadata": {
        "id": "BqcyL-m_byfj"
      },
      "execution_count": null,
      "outputs": []
    }
  ]
}